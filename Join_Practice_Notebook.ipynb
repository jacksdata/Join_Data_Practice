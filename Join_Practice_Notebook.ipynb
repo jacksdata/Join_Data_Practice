{
 "cells": [
  {
   "cell_type": "code",
   "execution_count": 1,
   "id": "927e6405",
   "metadata": {},
   "outputs": [],
   "source": [
    "import pandas as pd\n",
    "import seaborn as sns\n",
    "import matplotlib as plt\n",
    "\n",
    "closed_deals = pd.read_csv('olist_closed_deals_dataset.csv', parse_dates=['won_date'])\n",
    "qualified_leads = pd.read_csv('olist_marketing_qualified_leads_dataset.csv')\n",
    "sellers = pd.read_csv('olist_sellers_dataset.csv')\n",
    "items = pd.read_csv('olist_order_items_dataset.csv')\n",
    "customers = pd.read_csv('olist_customers_dataset.csv')\n",
    "geolocation = pd.read_csv('olist_geolocation_dataset.csv')\n",
    "orders = pd.read_csv('olist_orders_dataset.csv')\n",
    "order_items = pd.read_csv('olist_order_items_dataset.csv')\n",
    "order_payments = pd.read_csv('olist_order_payments_dataset.csv')\n",
    "order_reviews = pd.read_csv('olist_order_reviews_dataset.csv')\n",
    "products = pd.read_csv('olist_products_dataset.csv')\n",
    "\n"
   ]
  },
  {
   "cell_type": "code",
   "execution_count": 2,
   "id": "740b3279",
   "metadata": {},
   "outputs": [
    {
     "data": {
      "text/plain": [
       "842"
      ]
     },
     "execution_count": 2,
     "metadata": {},
     "output_type": "execute_result"
    }
   ],
   "source": [
    "len(closed_deals)"
   ]
  },
  {
   "cell_type": "code",
   "execution_count": 3,
   "id": "9b65b59f",
   "metadata": {},
   "outputs": [
    {
     "data": {
      "text/plain": [
       "8000"
      ]
     },
     "execution_count": 3,
     "metadata": {},
     "output_type": "execute_result"
    }
   ],
   "source": [
    "len(qualified_leads)"
   ]
  },
  {
   "cell_type": "code",
   "execution_count": 4,
   "id": "2a850325",
   "metadata": {},
   "outputs": [
    {
     "name": "stdout",
     "output_type": "stream",
     "text": [
      "<class 'pandas.core.frame.DataFrame'>\n",
      "RangeIndex: 842 entries, 0 to 841\n",
      "Data columns (total 14 columns):\n",
      " #   Column                         Non-Null Count  Dtype         \n",
      "---  ------                         --------------  -----         \n",
      " 0   mql_id                         842 non-null    object        \n",
      " 1   seller_id                      842 non-null    object        \n",
      " 2   sdr_id                         842 non-null    object        \n",
      " 3   sr_id                          842 non-null    object        \n",
      " 4   won_date                       842 non-null    datetime64[ns]\n",
      " 5   business_segment               841 non-null    object        \n",
      " 6   lead_type                      836 non-null    object        \n",
      " 7   lead_behaviour_profile         665 non-null    object        \n",
      " 8   has_company                    63 non-null     object        \n",
      " 9   has_gtin                       64 non-null     object        \n",
      " 10  average_stock                  66 non-null     object        \n",
      " 11  business_type                  832 non-null    object        \n",
      " 12  declared_product_catalog_size  69 non-null     float64       \n",
      " 13  declared_monthly_revenue       842 non-null    float64       \n",
      "dtypes: datetime64[ns](1), float64(2), object(11)\n",
      "memory usage: 92.2+ KB\n"
     ]
    }
   ],
   "source": [
    "closed_deals.info()"
   ]
  },
  {
   "cell_type": "code",
   "execution_count": 5,
   "id": "f15a3746",
   "metadata": {},
   "outputs": [],
   "source": [
    "#NaN's are leads that did not close a deal \n",
    "marketing_funnel = qualified_leads.merge(closed_deals, on='mql_id', how='left')"
   ]
  },
  {
   "cell_type": "code",
   "execution_count": 6,
   "id": "b537b2d9",
   "metadata": {},
   "outputs": [
    {
     "name": "stdout",
     "output_type": "stream",
     "text": [
      "<class 'pandas.core.frame.DataFrame'>\n",
      "Int64Index: 8000 entries, 0 to 7999\n",
      "Data columns (total 17 columns):\n",
      " #   Column                         Non-Null Count  Dtype         \n",
      "---  ------                         --------------  -----         \n",
      " 0   mql_id                         8000 non-null   object        \n",
      " 1   first_contact_date             8000 non-null   object        \n",
      " 2   landing_page_id                8000 non-null   object        \n",
      " 3   origin                         7940 non-null   object        \n",
      " 4   seller_id                      842 non-null    object        \n",
      " 5   sdr_id                         842 non-null    object        \n",
      " 6   sr_id                          842 non-null    object        \n",
      " 7   won_date                       842 non-null    datetime64[ns]\n",
      " 8   business_segment               841 non-null    object        \n",
      " 9   lead_type                      836 non-null    object        \n",
      " 10  lead_behaviour_profile         665 non-null    object        \n",
      " 11  has_company                    63 non-null     object        \n",
      " 12  has_gtin                       64 non-null     object        \n",
      " 13  average_stock                  66 non-null     object        \n",
      " 14  business_type                  832 non-null    object        \n",
      " 15  declared_product_catalog_size  69 non-null     float64       \n",
      " 16  declared_monthly_revenue       842 non-null    float64       \n",
      "dtypes: datetime64[ns](1), float64(2), object(14)\n",
      "memory usage: 1.1+ MB\n"
     ]
    }
   ],
   "source": [
    "marketing_funnel.info()"
   ]
  },
  {
   "cell_type": "code",
   "execution_count": 7,
   "id": "0c534af3",
   "metadata": {},
   "outputs": [
    {
     "data": {
      "text/plain": [
       "5-20       22\n",
       "50-200     15\n",
       "1-5        10\n",
       "20-50       8\n",
       "200+        7\n",
       "unknown     4\n",
       "Name: average_stock, dtype: int64"
      ]
     },
     "execution_count": 7,
     "metadata": {},
     "output_type": "execute_result"
    }
   ],
   "source": [
    "marketing_funnel['average_stock'].value_counts()"
   ]
  },
  {
   "cell_type": "markdown",
   "id": "5319461a",
   "metadata": {},
   "source": [
    "mql_id : Marketing Qualified Lead ID                  \n",
    "first_contact_date : ..                      \n",
    "landing_page_id : landing page id where lead was acquired                       \n",
    "origin : Type of Media where the lead was acquired            \n",
    "seller_id : ..                                \n",
    "sdr_id : Sales Development Representative ID               \n",
    "sr_id : Sales Rep ID             \n",
    "won_date : Date Deal was Closed            \n",
    "business_segment : Sector of the market           \n",
    "lead_type : size of company based on lead              \n",
    "lead_behaviour_profile : an animal description describing the lead       \n",
    "has_company : does the lead have a company?           \n",
    "has_gtin : does the company have a global trade item number barcode?       \n",
    "average_stock : lead declared average stock       \n",
    "business_type : ..         \n",
    "declared_product_catalog_size : ..            \n",
    "declared_monthly_revenue : .. "
   ]
  },
  {
   "cell_type": "code",
   "execution_count": 8,
   "id": "3cdb6c09",
   "metadata": {},
   "outputs": [
    {
     "data": {
      "text/plain": [
       "mql_id                              0\n",
       "first_contact_date                  0\n",
       "landing_page_id                     0\n",
       "origin                             60\n",
       "seller_id                        7158\n",
       "sdr_id                           7158\n",
       "sr_id                            7158\n",
       "won_date                         7158\n",
       "business_segment                 7159\n",
       "lead_type                        7164\n",
       "lead_behaviour_profile           7335\n",
       "has_company                      7937\n",
       "has_gtin                         7936\n",
       "average_stock                    7934\n",
       "business_type                    7168\n",
       "declared_product_catalog_size    7931\n",
       "declared_monthly_revenue         7158\n",
       "dtype: int64"
      ]
     },
     "execution_count": 8,
     "metadata": {},
     "output_type": "execute_result"
    }
   ],
   "source": [
    "#we can see that only around 800 deals were closed 8000 - 7158 (roughly)\n",
    "marketing_funnel.isnull().sum()"
   ]
  },
  {
   "cell_type": "code",
   "execution_count": 9,
   "id": "cf5edfc4",
   "metadata": {},
   "outputs": [],
   "source": [
    "numerical = ['mql_id', \n",
    "             'first_contact_date',\n",
    "             'landing_page_id',\n",
    "             'seller_id',\n",
    "             'sdr_id',\n",
    "             'sr_id',\n",
    "             'won_date',\n",
    "             'declared_product_catalog_size',\n",
    "             'declared_monthly_revenue']"
   ]
  },
  {
   "cell_type": "code",
   "execution_count": 10,
   "id": "74f8574c",
   "metadata": {},
   "outputs": [],
   "source": [
    "categorical = ['origin',\n",
    "               'business_segment',\n",
    "               'lead_type',\n",
    "               'lead_behaviour_profile',\n",
    "               'business_type']"
   ]
  },
  {
   "cell_type": "code",
   "execution_count": 11,
   "id": "bd2f8de7",
   "metadata": {},
   "outputs": [],
   "source": [
    "funnel_data = marketing_funnel[numerical + categorical]"
   ]
  },
  {
   "cell_type": "code",
   "execution_count": 12,
   "id": "1a455c1d",
   "metadata": {},
   "outputs": [],
   "source": [
    "non_zero_revenue = funnel_data[(funnel_data['declared_monthly_revenue'].notnull()) & (funnel_data['declared_monthly_revenue'].values != 0)]"
   ]
  },
  {
   "cell_type": "code",
   "execution_count": 13,
   "id": "b01fa553",
   "metadata": {},
   "outputs": [],
   "source": [
    "real_type = funnel_data[funnel_data['business_type'].notnull()]"
   ]
  },
  {
   "cell_type": "code",
   "execution_count": 14,
   "id": "843011ff",
   "metadata": {},
   "outputs": [],
   "source": [
    "business_type_sum = real_type.groupby(\"business_type\")['mql_id'].count()"
   ]
  },
  {
   "cell_type": "code",
   "execution_count": 15,
   "id": "c8ff0e4a",
   "metadata": {},
   "outputs": [
    {
     "data": {
      "text/plain": [
       "242"
      ]
     },
     "execution_count": 15,
     "metadata": {},
     "output_type": "execute_result"
    }
   ],
   "source": [
    "business_type_sum['manufacturer']"
   ]
  },
  {
   "cell_type": "code",
   "execution_count": 16,
   "id": "28ef4060",
   "metadata": {},
   "outputs": [
    {
     "data": {
      "text/plain": [
       "<AxesSubplot:xlabel='business_type'>"
      ]
     },
     "execution_count": 16,
     "metadata": {},
     "output_type": "execute_result"
    },
    {
     "data": {
      "image/png": "[encoded data removed]",
      "text/plain": [
       "<Figure size 432x288 with 1 Axes>"
      ]
     },
     "metadata": {
      "needs_background": "light"
     },
     "output_type": "display_data"
    }
   ],
   "source": [
    "business_type_sum.plot(kind='bar')"
   ]
  },
  {
   "cell_type": "code",
   "execution_count": 17,
   "id": "2cb3404f",
   "metadata": {},
   "outputs": [
    {
     "data": {
      "text/plain": [
       "45"
      ]
     },
     "execution_count": 17,
     "metadata": {},
     "output_type": "execute_result"
    }
   ],
   "source": [
    "#only 45 companies reported revenue in this dataset! not a lot to work with\n",
    "len(non_zero_revenue)"
   ]
  },
  {
   "cell_type": "code",
   "execution_count": 18,
   "id": "24007342",
   "metadata": {},
   "outputs": [
    {
     "name": "stdout",
     "output_type": "stream",
     "text": [
      "<class 'pandas.core.frame.DataFrame'>\n",
      "Int64Index: 8000 entries, 0 to 7999\n",
      "Data columns (total 14 columns):\n",
      " #   Column                         Non-Null Count  Dtype         \n",
      "---  ------                         --------------  -----         \n",
      " 0   mql_id                         8000 non-null   object        \n",
      " 1   first_contact_date             8000 non-null   object        \n",
      " 2   landing_page_id                8000 non-null   object        \n",
      " 3   seller_id                      842 non-null    object        \n",
      " 4   sdr_id                         842 non-null    object        \n",
      " 5   sr_id                          842 non-null    object        \n",
      " 6   won_date                       842 non-null    datetime64[ns]\n",
      " 7   declared_product_catalog_size  69 non-null     float64       \n",
      " 8   declared_monthly_revenue       842 non-null    float64       \n",
      " 9   origin                         7940 non-null   object        \n",
      " 10  business_segment               841 non-null    object        \n",
      " 11  lead_type                      836 non-null    object        \n",
      " 12  lead_behaviour_profile         665 non-null    object        \n",
      " 13  business_type                  832 non-null    object        \n",
      "dtypes: datetime64[ns](1), float64(2), object(11)\n",
      "memory usage: 937.5+ KB\n"
     ]
    }
   ],
   "source": [
    "funnel_data.info()"
   ]
  },
  {
   "cell_type": "code",
   "execution_count": 19,
   "id": "23470e22",
   "metadata": {},
   "outputs": [],
   "source": [
    "#to get seller locations\n",
    "marketing_sales = marketing_funnel.merge(sellers, on='seller_id', how='left')"
   ]
  },
  {
   "cell_type": "code",
   "execution_count": 20,
   "id": "2176e75d",
   "metadata": {},
   "outputs": [],
   "source": [
    "marketing_items = marketing_funnel.merge(items,on='seller_id', how='left')"
   ]
  },
  {
   "cell_type": "code",
   "execution_count": 21,
   "id": "6a1fa114",
   "metadata": {},
   "outputs": [
    {
     "data": {
      "text/html": [
       "<div>\n",
       "<style scoped>\n",
       "    .dataframe tbody tr th:only-of-type {\n",
       "        vertical-align: middle;\n",
       "    }\n",
       "\n",
       "    .dataframe tbody tr th {\n",
       "        vertical-align: top;\n",
       "    }\n",
       "\n",
       "    .dataframe thead th {\n",
       "        text-align: right;\n",
       "    }\n",
       "</style>\n",
       "<table border=\"1\" class=\"dataframe\">\n",
       "  <thead>\n",
       "    <tr style=\"text-align: right;\">\n",
       "      <th></th>\n",
       "      <th>mql_id</th>\n",
       "      <th>first_contact_date</th>\n",
       "      <th>landing_page_id</th>\n",
       "      <th>origin</th>\n",
       "      <th>seller_id</th>\n",
       "      <th>sdr_id</th>\n",
       "      <th>sr_id</th>\n",
       "      <th>won_date</th>\n",
       "      <th>business_segment</th>\n",
       "      <th>lead_type</th>\n",
       "      <th>...</th>\n",
       "      <th>average_stock</th>\n",
       "      <th>business_type</th>\n",
       "      <th>declared_product_catalog_size</th>\n",
       "      <th>declared_monthly_revenue</th>\n",
       "      <th>order_id</th>\n",
       "      <th>order_item_id</th>\n",
       "      <th>product_id</th>\n",
       "      <th>shipping_limit_date</th>\n",
       "      <th>price</th>\n",
       "      <th>freight_value</th>\n",
       "    </tr>\n",
       "  </thead>\n",
       "  <tbody>\n",
       "    <tr>\n",
       "      <th>0</th>\n",
       "      <td>dac32acd4db4c29c230538b72f8dd87d</td>\n",
       "      <td>2018-02-01</td>\n",
       "      <td>88740e65d5d6b056e0cda098e1ea6313</td>\n",
       "      <td>social</td>\n",
       "      <td>NaN</td>\n",
       "      <td>NaN</td>\n",
       "      <td>NaN</td>\n",
       "      <td>NaT</td>\n",
       "      <td>NaN</td>\n",
       "      <td>NaN</td>\n",
       "      <td>...</td>\n",
       "      <td>NaN</td>\n",
       "      <td>NaN</td>\n",
       "      <td>NaN</td>\n",
       "      <td>NaN</td>\n",
       "      <td>NaN</td>\n",
       "      <td>NaN</td>\n",
       "      <td>NaN</td>\n",
       "      <td>NaN</td>\n",
       "      <td>NaN</td>\n",
       "      <td>NaN</td>\n",
       "    </tr>\n",
       "    <tr>\n",
       "      <th>1</th>\n",
       "      <td>8c18d1de7f67e60dbd64e3c07d7e9d5d</td>\n",
       "      <td>2017-10-20</td>\n",
       "      <td>007f9098284a86ee80ddeb25d53e0af8</td>\n",
       "      <td>paid_search</td>\n",
       "      <td>NaN</td>\n",
       "      <td>NaN</td>\n",
       "      <td>NaN</td>\n",
       "      <td>NaT</td>\n",
       "      <td>NaN</td>\n",
       "      <td>NaN</td>\n",
       "      <td>...</td>\n",
       "      <td>NaN</td>\n",
       "      <td>NaN</td>\n",
       "      <td>NaN</td>\n",
       "      <td>NaN</td>\n",
       "      <td>NaN</td>\n",
       "      <td>NaN</td>\n",
       "      <td>NaN</td>\n",
       "      <td>NaN</td>\n",
       "      <td>NaN</td>\n",
       "      <td>NaN</td>\n",
       "    </tr>\n",
       "    <tr>\n",
       "      <th>2</th>\n",
       "      <td>b4bc852d233dfefc5131f593b538befa</td>\n",
       "      <td>2018-03-22</td>\n",
       "      <td>a7982125ff7aa3b2054c6e44f9d28522</td>\n",
       "      <td>organic_search</td>\n",
       "      <td>NaN</td>\n",
       "      <td>NaN</td>\n",
       "      <td>NaN</td>\n",
       "      <td>NaT</td>\n",
       "      <td>NaN</td>\n",
       "      <td>NaN</td>\n",
       "      <td>...</td>\n",
       "      <td>NaN</td>\n",
       "      <td>NaN</td>\n",
       "      <td>NaN</td>\n",
       "      <td>NaN</td>\n",
       "      <td>NaN</td>\n",
       "      <td>NaN</td>\n",
       "      <td>NaN</td>\n",
       "      <td>NaN</td>\n",
       "      <td>NaN</td>\n",
       "      <td>NaN</td>\n",
       "    </tr>\n",
       "    <tr>\n",
       "      <th>3</th>\n",
       "      <td>6be030b81c75970747525b843c1ef4f8</td>\n",
       "      <td>2018-01-22</td>\n",
       "      <td>d45d558f0daeecf3cccdffe3c59684aa</td>\n",
       "      <td>email</td>\n",
       "      <td>NaN</td>\n",
       "      <td>NaN</td>\n",
       "      <td>NaN</td>\n",
       "      <td>NaT</td>\n",
       "      <td>NaN</td>\n",
       "      <td>NaN</td>\n",
       "      <td>...</td>\n",
       "      <td>NaN</td>\n",
       "      <td>NaN</td>\n",
       "      <td>NaN</td>\n",
       "      <td>NaN</td>\n",
       "      <td>NaN</td>\n",
       "      <td>NaN</td>\n",
       "      <td>NaN</td>\n",
       "      <td>NaN</td>\n",
       "      <td>NaN</td>\n",
       "      <td>NaN</td>\n",
       "    </tr>\n",
       "    <tr>\n",
       "      <th>4</th>\n",
       "      <td>5420aad7fec3549a85876ba1c529bd84</td>\n",
       "      <td>2018-02-21</td>\n",
       "      <td>b48ec5f3b04e9068441002a19df93c6c</td>\n",
       "      <td>organic_search</td>\n",
       "      <td>2c43fb513632d29b3b58df74816f1b06</td>\n",
       "      <td>a8387c01a09e99ce014107505b92388c</td>\n",
       "      <td>4ef15afb4b2723d8f3d81e51ec7afefe</td>\n",
       "      <td>2018-02-26 19:58:54</td>\n",
       "      <td>pet</td>\n",
       "      <td>online_medium</td>\n",
       "      <td>...</td>\n",
       "      <td>NaN</td>\n",
       "      <td>reseller</td>\n",
       "      <td>NaN</td>\n",
       "      <td>0.0</td>\n",
       "      <td>1efcc6ba75b519535a510c53153a9256</td>\n",
       "      <td>1.0</td>\n",
       "      <td>e94df75b2e9a8b056be0c144a731f55c</td>\n",
       "      <td>2018-06-26 22:20:21</td>\n",
       "      <td>94.2</td>\n",
       "      <td>18.76</td>\n",
       "    </tr>\n",
       "  </tbody>\n",
       "</table>\n",
       "<p>5 rows × 23 columns</p>\n",
       "</div>"
      ],
      "text/plain": [
       "                             mql_id first_contact_date  \\\n",
       "0  dac32acd4db4c29c230538b72f8dd87d         2018-02-01   \n",
       "1  8c18d1de7f67e60dbd64e3c07d7e9d5d         2017-10-20   \n",
       "2  b4bc852d233dfefc5131f593b538befa         2018-03-22   \n",
       "3  6be030b81c75970747525b843c1ef4f8         2018-01-22   \n",
       "4  5420aad7fec3549a85876ba1c529bd84         2018-02-21   \n",
       "\n",
       "                    landing_page_id          origin  \\\n",
       "0  88740e65d5d6b056e0cda098e1ea6313          social   \n",
       "1  007f9098284a86ee80ddeb25d53e0af8     paid_search   \n",
       "2  a7982125ff7aa3b2054c6e44f9d28522  organic_search   \n",
       "3  d45d558f0daeecf3cccdffe3c59684aa           email   \n",
       "4  b48ec5f3b04e9068441002a19df93c6c  organic_search   \n",
       "\n",
       "                          seller_id                            sdr_id  \\\n",
       "0                               NaN                               NaN   \n",
       "1                               NaN                               NaN   \n",
       "2                               NaN                               NaN   \n",
       "3                               NaN                               NaN   \n",
       "4  2c43fb513632d29b3b58df74816f1b06  a8387c01a09e99ce014107505b92388c   \n",
       "\n",
       "                              sr_id            won_date business_segment  \\\n",
       "0                               NaN                 NaT              NaN   \n",
       "1                               NaN                 NaT              NaN   \n",
       "2                               NaN                 NaT              NaN   \n",
       "3                               NaN                 NaT              NaN   \n",
       "4  4ef15afb4b2723d8f3d81e51ec7afefe 2018-02-26 19:58:54              pet   \n",
       "\n",
       "       lead_type  ... average_stock business_type  \\\n",
       "0            NaN  ...           NaN           NaN   \n",
       "1            NaN  ...           NaN           NaN   \n",
       "2            NaN  ...           NaN           NaN   \n",
       "3            NaN  ...           NaN           NaN   \n",
       "4  online_medium  ...           NaN      reseller   \n",
       "\n",
       "  declared_product_catalog_size declared_monthly_revenue  \\\n",
       "0                           NaN                      NaN   \n",
       "1                           NaN                      NaN   \n",
       "2                           NaN                      NaN   \n",
       "3                           NaN                      NaN   \n",
       "4                           NaN                      0.0   \n",
       "\n",
       "                           order_id  order_item_id  \\\n",
       "0                               NaN            NaN   \n",
       "1                               NaN            NaN   \n",
       "2                               NaN            NaN   \n",
       "3                               NaN            NaN   \n",
       "4  1efcc6ba75b519535a510c53153a9256            1.0   \n",
       "\n",
       "                         product_id  shipping_limit_date  price freight_value  \n",
       "0                               NaN                  NaN    NaN           NaN  \n",
       "1                               NaN                  NaN    NaN           NaN  \n",
       "2                               NaN                  NaN    NaN           NaN  \n",
       "3                               NaN                  NaN    NaN           NaN  \n",
       "4  e94df75b2e9a8b056be0c144a731f55c  2018-06-26 22:20:21   94.2         18.76  \n",
       "\n",
       "[5 rows x 23 columns]"
      ]
     },
     "execution_count": 21,
     "metadata": {},
     "output_type": "execute_result"
    }
   ],
   "source": [
    "marketing_items.head()"
   ]
  },
  {
   "cell_type": "markdown",
   "id": "7654c828",
   "metadata": {},
   "source": [
    "At this point I realized that while the data could be relevent to a business there is not enough quality data here for building quality models. "
   ]
  },
  {
   "cell_type": "code",
   "execution_count": 22,
   "id": "e87ae5d9",
   "metadata": {},
   "outputs": [
    {
     "data": {
      "text/plain": [
       "3095"
      ]
     },
     "execution_count": 22,
     "metadata": {},
     "output_type": "execute_result"
    }
   ],
   "source": [
    "len(sellers)"
   ]
  },
  {
   "cell_type": "code",
   "execution_count": 33,
   "id": "9e142d0a",
   "metadata": {},
   "outputs": [],
   "source": [
    "funnel_data['seller_id_bool'] = funnel_data['seller_id'].notna()"
   ]
  },
  {
   "cell_type": "code",
   "execution_count": 28,
   "id": "540df0b6",
   "metadata": {},
   "outputs": [
    {
     "data": {
      "text/plain": [
       "'2018-02-01'"
      ]
     },
     "execution_count": 28,
     "metadata": {},
     "output_type": "execute_result"
    }
   ],
   "source": [
    "funnel_data['first_contact_date'][0]"
   ]
  },
  {
   "cell_type": "code",
   "execution_count": 30,
   "id": "eb87262d",
   "metadata": {},
   "outputs": [],
   "source": [
    "def trim_col(string):\n",
    "    cut_string = ''\n",
    "    for i in range(len(string) - 3):\n",
    "        cut_string = cut_string + string[i]\n",
    "    return cut_string\n",
    "        "
   ]
  },
  {
   "cell_type": "code",
   "execution_count": 31,
   "id": "32b7c9ad",
   "metadata": {},
   "outputs": [
    {
     "name": "stderr",
     "output_type": "stream",
     "text": [
      "<ipython-input-31-a120f48789ae>:1: SettingWithCopyWarning: \n",
      "A value is trying to be set on a copy of a slice from a DataFrame.\n",
      "Try using .loc[row_indexer,col_indexer] = value instead\n",
      "\n",
      "See the caveats in the documentation: https://pandas.pydata.org/pandas-docs/stable/user_guide/indexing.html#returning-a-view-versus-a-copy\n",
      "  funnel_data['first_contact_y_m'] = funnel_data['first_contact_date'].apply(trim_col)\n"
     ]
    }
   ],
   "source": [
    "funnel_data['first_contact_y_m'] = funnel_data['first_contact_date'].apply(trim_col)"
   ]
  },
  {
   "cell_type": "code",
   "execution_count": 34,
   "id": "c8c20555",
   "metadata": {},
   "outputs": [
    {
     "data": {
      "text/html": [
       "<div>\n",
       "<style scoped>\n",
       "    .dataframe tbody tr th:only-of-type {\n",
       "        vertical-align: middle;\n",
       "    }\n",
       "\n",
       "    .dataframe tbody tr th {\n",
       "        vertical-align: top;\n",
       "    }\n",
       "\n",
       "    .dataframe thead th {\n",
       "        text-align: right;\n",
       "    }\n",
       "</style>\n",
       "<table border=\"1\" class=\"dataframe\">\n",
       "  <thead>\n",
       "    <tr style=\"text-align: right;\">\n",
       "      <th>first_contact_y_m</th>\n",
       "      <th>2017-06</th>\n",
       "      <th>2017-07</th>\n",
       "      <th>2017-08</th>\n",
       "      <th>2017-09</th>\n",
       "      <th>2017-10</th>\n",
       "      <th>2017-11</th>\n",
       "      <th>2017-12</th>\n",
       "      <th>2018-01</th>\n",
       "      <th>2018-02</th>\n",
       "      <th>2018-03</th>\n",
       "      <th>2018-04</th>\n",
       "      <th>2018-05</th>\n",
       "    </tr>\n",
       "  </thead>\n",
       "  <tbody>\n",
       "    <tr>\n",
       "      <th>seller_id_bool</th>\n",
       "      <td>0</td>\n",
       "      <td>2</td>\n",
       "      <td>9</td>\n",
       "      <td>7</td>\n",
       "      <td>14</td>\n",
       "      <td>18</td>\n",
       "      <td>11</td>\n",
       "      <td>152</td>\n",
       "      <td>149</td>\n",
       "      <td>167</td>\n",
       "      <td>183</td>\n",
       "      <td>130</td>\n",
       "    </tr>\n",
       "  </tbody>\n",
       "</table>\n",
       "</div>"
      ],
      "text/plain": [
       "first_contact_y_m  2017-06  2017-07  2017-08  2017-09  2017-10  2017-11  \\\n",
       "seller_id_bool           0        2        9        7       14       18   \n",
       "\n",
       "first_contact_y_m  2017-12  2018-01  2018-02  2018-03  2018-04  2018-05  \n",
       "seller_id_bool          11      152      149      167      183      130  "
      ]
     },
     "execution_count": 34,
     "metadata": {},
     "output_type": "execute_result"
    }
   ],
   "source": [
    "monthly_closed = funnel_data.groupby('first_contact_y_m')['seller_id_bool'].sum()\n",
    "monthly_closed.to_frame().T"
   ]
  },
  {
   "cell_type": "code",
   "execution_count": 41,
   "id": "7b137fad",
   "metadata": {},
   "outputs": [
    {
     "data": {
      "text/plain": [
       "<AxesSubplot:xlabel='first_contact_y_m'>"
      ]
     },
     "execution_count": 41,
     "metadata": {},
     "output_type": "execute_result"
    },
    {
     "data": {
      "image/png": "[encoded data removed]",
      "text/plain": [
       "<Figure size 864x432 with 1 Axes>"
      ]
     },
     "metadata": {
      "needs_background": "light"
     },
     "output_type": "display_data"
    }
   ],
   "source": [
    "monthly_closed.plot.line(figsize=(12, 6))\n"
   ]
  },
  {
   "cell_type": "code",
   "execution_count": null,
   "id": "1c501078",
   "metadata": {},
   "outputs": [],
   "source": []
  }
 ],
 "metadata": {
  "kernelspec": {
   "display_name": "Python 3",
   "language": "python",
   "name": "python3"
  },
  "language_info": {
   "codemirror_mode": {
    "name": "ipython",
    "version": 3
   },
   "file_extension": ".py",
   "mimetype": "text/x-python",
   "name": "python",
   "nbconvert_exporter": "python",
   "pygments_lexer": "ipython3",
   "version": "3.9.4"
  }
 },
 "nbformat": 4,
 "nbformat_minor": 5
}
