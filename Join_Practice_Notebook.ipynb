{
 "cells": [
  {
   "cell_type": "code",
   "execution_count": 16,
   "id": "a05c230d",
   "metadata": {},
   "outputs": [],
   "source": [
    "import pandas as pd\n",
    "import seaborn as sns\n",
    "\n",
    "closed_deals = pd.read_csv('olist_closed_deals_dataset.csv')\n",
    "qualified_leads = pd.read_csv('olist_marketing_qualified_leads_dataset.csv')\n",
    "sellers = pd.read_csv('olist_sellers_dataset.csv')\n",
    "items = pd.read_csv('olist_order_items_dataset.csv')\n"
   ]
  },
  {
   "cell_type": "code",
   "execution_count": 42,
   "id": "9fceda53",
   "metadata": {},
   "outputs": [
    {
     "data": {
      "text/plain": [
       "842"
      ]
     },
     "execution_count": 42,
     "metadata": {},
     "output_type": "execute_result"
    }
   ],
   "source": [
    "len(closed_deals)"
   ]
  },
  {
   "cell_type": "code",
   "execution_count": 43,
   "id": "82fb0655",
   "metadata": {},
   "outputs": [
    {
     "data": {
      "text/plain": [
       "8000"
      ]
     },
     "execution_count": 43,
     "metadata": {},
     "output_type": "execute_result"
    }
   ],
   "source": [
    "len(qualified_leads)"
   ]
  },
  {
   "cell_type": "code",
   "execution_count": 28,
   "id": "57d45f04",
   "metadata": {},
   "outputs": [
    {
     "name": "stdout",
     "output_type": "stream",
     "text": [
      "<class 'pandas.core.frame.DataFrame'>\n",
      "RangeIndex: 842 entries, 0 to 841\n",
      "Data columns (total 14 columns):\n",
      " #   Column                         Non-Null Count  Dtype  \n",
      "---  ------                         --------------  -----  \n",
      " 0   mql_id                         842 non-null    object \n",
      " 1   seller_id                      842 non-null    object \n",
      " 2   sdr_id                         842 non-null    object \n",
      " 3   sr_id                          842 non-null    object \n",
      " 4   won_date                       842 non-null    object \n",
      " 5   business_segment               841 non-null    object \n",
      " 6   lead_type                      836 non-null    object \n",
      " 7   lead_behaviour_profile         665 non-null    object \n",
      " 8   has_company                    63 non-null     object \n",
      " 9   has_gtin                       64 non-null     object \n",
      " 10  average_stock                  66 non-null     object \n",
      " 11  business_type                  832 non-null    object \n",
      " 12  declared_product_catalog_size  69 non-null     float64\n",
      " 13  declared_monthly_revenue       842 non-null    float64\n",
      "dtypes: float64(2), object(12)\n",
      "memory usage: 92.2+ KB\n"
     ]
    }
   ],
   "source": [
    "closed_deals.info()"
   ]
  },
  {
   "cell_type": "code",
   "execution_count": 21,
   "id": "eaf1b302",
   "metadata": {},
   "outputs": [],
   "source": [
    "#NaN's are leads that did not close a deal \n",
    "marketing_funnel = qualified_leads.merge(closed_deals, on='mql_id', how='left')"
   ]
  },
  {
   "cell_type": "code",
   "execution_count": 30,
   "id": "881e3548",
   "metadata": {},
   "outputs": [
    {
     "name": "stdout",
     "output_type": "stream",
     "text": [
      "<class 'pandas.core.frame.DataFrame'>\n",
      "Int64Index: 8000 entries, 0 to 7999\n",
      "Data columns (total 17 columns):\n",
      " #   Column                         Non-Null Count  Dtype  \n",
      "---  ------                         --------------  -----  \n",
      " 0   mql_id                         8000 non-null   object \n",
      " 1   first_contact_date             8000 non-null   object \n",
      " 2   landing_page_id                8000 non-null   object \n",
      " 3   origin                         7940 non-null   object \n",
      " 4   seller_id                      842 non-null    object \n",
      " 5   sdr_id                         842 non-null    object \n",
      " 6   sr_id                          842 non-null    object \n",
      " 7   won_date                       842 non-null    object \n",
      " 8   business_segment               841 non-null    object \n",
      " 9   lead_type                      836 non-null    object \n",
      " 10  lead_behaviour_profile         665 non-null    object \n",
      " 11  has_company                    63 non-null     object \n",
      " 12  has_gtin                       64 non-null     object \n",
      " 13  average_stock                  66 non-null     object \n",
      " 14  business_type                  832 non-null    object \n",
      " 15  declared_product_catalog_size  69 non-null     float64\n",
      " 16  declared_monthly_revenue       842 non-null    float64\n",
      "dtypes: float64(2), object(15)\n",
      "memory usage: 1.1+ MB\n"
     ]
    }
   ],
   "source": [
    "marketing_funnel.info()"
   ]
  },
  {
   "cell_type": "code",
   "execution_count": 39,
   "id": "ffe1952d",
   "metadata": {},
   "outputs": [
    {
     "data": {
      "text/plain": [
       "5-20       22\n",
       "50-200     15\n",
       "1-5        10\n",
       "20-50       8\n",
       "200+        7\n",
       "unknown     4\n",
       "Name: average_stock, dtype: int64"
      ]
     },
     "execution_count": 39,
     "metadata": {},
     "output_type": "execute_result"
    }
   ],
   "source": [
    "marketing_funnel['average_stock'].value_counts()"
   ]
  },
  {
   "cell_type": "markdown",
   "id": "e60c1080",
   "metadata": {},
   "source": [
    "mql_id : Marketing Qualified Lead ID                  \n",
    "first_contact_date : ..                      \n",
    "landing_page_id : landing page id where lead was acquired                       \n",
    "origin : Type of Media where the lead was acquired            \n",
    "seller_id : ..                                \n",
    "sdr_id : Sales Development Representative ID               \n",
    "sr_id : Sales Rep ID             \n",
    "won_date : Date Deal was Closed            \n",
    "business_segment : Sector of the market           \n",
    "lead_type : size of company based on lead              \n",
    "lead_behaviour_profile : an animal description describing the lead       \n",
    "has_company : does the lead have a company?           \n",
    "has_gtin : does the company have a global trade item number barcode?       \n",
    "average_stock : lead declared average stock       \n",
    "business_type : ..         \n",
    "declared_product_catalog_size : ..            \n",
    "declared_monthly_revenue : .. "
   ]
  },
  {
   "cell_type": "code",
   "execution_count": 41,
   "id": "f43f3fef",
   "metadata": {},
   "outputs": [
    {
     "data": {
      "text/plain": [
       "mql_id                              0\n",
       "first_contact_date                  0\n",
       "landing_page_id                     0\n",
       "origin                             60\n",
       "seller_id                        7158\n",
       "sdr_id                           7158\n",
       "sr_id                            7158\n",
       "won_date                         7158\n",
       "business_segment                 7159\n",
       "lead_type                        7164\n",
       "lead_behaviour_profile           7335\n",
       "has_company                      7937\n",
       "has_gtin                         7936\n",
       "average_stock                    7934\n",
       "business_type                    7168\n",
       "declared_product_catalog_size    7931\n",
       "declared_monthly_revenue         7158\n",
       "dtype: int64"
      ]
     },
     "execution_count": 41,
     "metadata": {},
     "output_type": "execute_result"
    }
   ],
   "source": [
    "#we can see that only around 800 deals were closed 8000 - 7158 (roughly)\n",
    "marketing_funnel.isnull().sum()"
   ]
  },
  {
   "cell_type": "code",
   "execution_count": 44,
   "id": "b0033fa1",
   "metadata": {},
   "outputs": [],
   "source": [
    "numerical = ['mql_id', \n",
    "             'first_contact_date',\n",
    "             'landing_page_id',\n",
    "             'seller_id',\n",
    "             'sdr_id',\n",
    "             'sr_id',\n",
    "             'won_date',\n",
    "             'declared_product_catelog_size',\n",
    "             'declared_monthly_revenue']"
   ]
  },
  {
   "cell_type": "code",
   "execution_count": 45,
   "id": "4b677f9b",
   "metadata": {},
   "outputs": [],
   "source": [
    "categorical = ['origin',\n",
    "               'business_segment',\n",
    "               'lead_type',\n",
    "               'lead_behaviour_profile',\n",
    "               'business_type']"
   ]
  },
  {
   "cell_type": "code",
   "execution_count": 23,
   "id": "70bcbe66",
   "metadata": {},
   "outputs": [],
   "source": [
    "#to get seller locations\n",
    "marketing_sales = marketing_funnel.merge(sellers, on='seller_id', how='left')"
   ]
  },
  {
   "cell_type": "code",
   "execution_count": 24,
   "id": "2bf48e70",
   "metadata": {},
   "outputs": [],
   "source": [
    "marketing_items = marketing_funnel.merge(items,on='seller_id', how='left')"
   ]
  },
  {
   "cell_type": "code",
   "execution_count": 25,
   "id": "6afdcacf",
   "metadata": {},
   "outputs": [
    {
     "data": {
      "text/html": [
       "<div>\n",
       "<style scoped>\n",
       "    .dataframe tbody tr th:only-of-type {\n",
       "        vertical-align: middle;\n",
       "    }\n",
       "\n",
       "    .dataframe tbody tr th {\n",
       "        vertical-align: top;\n",
       "    }\n",
       "\n",
       "    .dataframe thead th {\n",
       "        text-align: right;\n",
       "    }\n",
       "</style>\n",
       "<table border=\"1\" class=\"dataframe\">\n",
       "  <thead>\n",
       "    <tr style=\"text-align: right;\">\n",
       "      <th></th>\n",
       "      <th>mql_id</th>\n",
       "      <th>first_contact_date</th>\n",
       "      <th>landing_page_id</th>\n",
       "      <th>origin</th>\n",
       "      <th>seller_id</th>\n",
       "      <th>sdr_id</th>\n",
       "      <th>sr_id</th>\n",
       "      <th>won_date</th>\n",
       "      <th>business_segment</th>\n",
       "      <th>lead_type</th>\n",
       "      <th>...</th>\n",
       "      <th>average_stock</th>\n",
       "      <th>business_type</th>\n",
       "      <th>declared_product_catalog_size</th>\n",
       "      <th>declared_monthly_revenue</th>\n",
       "      <th>order_id</th>\n",
       "      <th>order_item_id</th>\n",
       "      <th>product_id</th>\n",
       "      <th>shipping_limit_date</th>\n",
       "      <th>price</th>\n",
       "      <th>freight_value</th>\n",
       "    </tr>\n",
       "  </thead>\n",
       "  <tbody>\n",
       "    <tr>\n",
       "      <th>0</th>\n",
       "      <td>dac32acd4db4c29c230538b72f8dd87d</td>\n",
       "      <td>2018-02-01</td>\n",
       "      <td>88740e65d5d6b056e0cda098e1ea6313</td>\n",
       "      <td>social</td>\n",
       "      <td>NaN</td>\n",
       "      <td>NaN</td>\n",
       "      <td>NaN</td>\n",
       "      <td>NaN</td>\n",
       "      <td>NaN</td>\n",
       "      <td>NaN</td>\n",
       "      <td>...</td>\n",
       "      <td>NaN</td>\n",
       "      <td>NaN</td>\n",
       "      <td>NaN</td>\n",
       "      <td>NaN</td>\n",
       "      <td>NaN</td>\n",
       "      <td>NaN</td>\n",
       "      <td>NaN</td>\n",
       "      <td>NaN</td>\n",
       "      <td>NaN</td>\n",
       "      <td>NaN</td>\n",
       "    </tr>\n",
       "    <tr>\n",
       "      <th>1</th>\n",
       "      <td>8c18d1de7f67e60dbd64e3c07d7e9d5d</td>\n",
       "      <td>2017-10-20</td>\n",
       "      <td>007f9098284a86ee80ddeb25d53e0af8</td>\n",
       "      <td>paid_search</td>\n",
       "      <td>NaN</td>\n",
       "      <td>NaN</td>\n",
       "      <td>NaN</td>\n",
       "      <td>NaN</td>\n",
       "      <td>NaN</td>\n",
       "      <td>NaN</td>\n",
       "      <td>...</td>\n",
       "      <td>NaN</td>\n",
       "      <td>NaN</td>\n",
       "      <td>NaN</td>\n",
       "      <td>NaN</td>\n",
       "      <td>NaN</td>\n",
       "      <td>NaN</td>\n",
       "      <td>NaN</td>\n",
       "      <td>NaN</td>\n",
       "      <td>NaN</td>\n",
       "      <td>NaN</td>\n",
       "    </tr>\n",
       "    <tr>\n",
       "      <th>2</th>\n",
       "      <td>b4bc852d233dfefc5131f593b538befa</td>\n",
       "      <td>2018-03-22</td>\n",
       "      <td>a7982125ff7aa3b2054c6e44f9d28522</td>\n",
       "      <td>organic_search</td>\n",
       "      <td>NaN</td>\n",
       "      <td>NaN</td>\n",
       "      <td>NaN</td>\n",
       "      <td>NaN</td>\n",
       "      <td>NaN</td>\n",
       "      <td>NaN</td>\n",
       "      <td>...</td>\n",
       "      <td>NaN</td>\n",
       "      <td>NaN</td>\n",
       "      <td>NaN</td>\n",
       "      <td>NaN</td>\n",
       "      <td>NaN</td>\n",
       "      <td>NaN</td>\n",
       "      <td>NaN</td>\n",
       "      <td>NaN</td>\n",
       "      <td>NaN</td>\n",
       "      <td>NaN</td>\n",
       "    </tr>\n",
       "    <tr>\n",
       "      <th>3</th>\n",
       "      <td>6be030b81c75970747525b843c1ef4f8</td>\n",
       "      <td>2018-01-22</td>\n",
       "      <td>d45d558f0daeecf3cccdffe3c59684aa</td>\n",
       "      <td>email</td>\n",
       "      <td>NaN</td>\n",
       "      <td>NaN</td>\n",
       "      <td>NaN</td>\n",
       "      <td>NaN</td>\n",
       "      <td>NaN</td>\n",
       "      <td>NaN</td>\n",
       "      <td>...</td>\n",
       "      <td>NaN</td>\n",
       "      <td>NaN</td>\n",
       "      <td>NaN</td>\n",
       "      <td>NaN</td>\n",
       "      <td>NaN</td>\n",
       "      <td>NaN</td>\n",
       "      <td>NaN</td>\n",
       "      <td>NaN</td>\n",
       "      <td>NaN</td>\n",
       "      <td>NaN</td>\n",
       "    </tr>\n",
       "    <tr>\n",
       "      <th>4</th>\n",
       "      <td>5420aad7fec3549a85876ba1c529bd84</td>\n",
       "      <td>2018-02-21</td>\n",
       "      <td>b48ec5f3b04e9068441002a19df93c6c</td>\n",
       "      <td>organic_search</td>\n",
       "      <td>2c43fb513632d29b3b58df74816f1b06</td>\n",
       "      <td>a8387c01a09e99ce014107505b92388c</td>\n",
       "      <td>4ef15afb4b2723d8f3d81e51ec7afefe</td>\n",
       "      <td>2018-02-26 19:58:54</td>\n",
       "      <td>pet</td>\n",
       "      <td>online_medium</td>\n",
       "      <td>...</td>\n",
       "      <td>NaN</td>\n",
       "      <td>reseller</td>\n",
       "      <td>NaN</td>\n",
       "      <td>0.0</td>\n",
       "      <td>1efcc6ba75b519535a510c53153a9256</td>\n",
       "      <td>1.0</td>\n",
       "      <td>e94df75b2e9a8b056be0c144a731f55c</td>\n",
       "      <td>2018-06-26 22:20:21</td>\n",
       "      <td>94.2</td>\n",
       "      <td>18.76</td>\n",
       "    </tr>\n",
       "  </tbody>\n",
       "</table>\n",
       "<p>5 rows × 23 columns</p>\n",
       "</div>"
      ],
      "text/plain": [
       "                             mql_id first_contact_date  \\\n",
       "0  dac32acd4db4c29c230538b72f8dd87d         2018-02-01   \n",
       "1  8c18d1de7f67e60dbd64e3c07d7e9d5d         2017-10-20   \n",
       "2  b4bc852d233dfefc5131f593b538befa         2018-03-22   \n",
       "3  6be030b81c75970747525b843c1ef4f8         2018-01-22   \n",
       "4  5420aad7fec3549a85876ba1c529bd84         2018-02-21   \n",
       "\n",
       "                    landing_page_id          origin  \\\n",
       "0  88740e65d5d6b056e0cda098e1ea6313          social   \n",
       "1  007f9098284a86ee80ddeb25d53e0af8     paid_search   \n",
       "2  a7982125ff7aa3b2054c6e44f9d28522  organic_search   \n",
       "3  d45d558f0daeecf3cccdffe3c59684aa           email   \n",
       "4  b48ec5f3b04e9068441002a19df93c6c  organic_search   \n",
       "\n",
       "                          seller_id                            sdr_id  \\\n",
       "0                               NaN                               NaN   \n",
       "1                               NaN                               NaN   \n",
       "2                               NaN                               NaN   \n",
       "3                               NaN                               NaN   \n",
       "4  2c43fb513632d29b3b58df74816f1b06  a8387c01a09e99ce014107505b92388c   \n",
       "\n",
       "                              sr_id             won_date business_segment  \\\n",
       "0                               NaN                  NaN              NaN   \n",
       "1                               NaN                  NaN              NaN   \n",
       "2                               NaN                  NaN              NaN   \n",
       "3                               NaN                  NaN              NaN   \n",
       "4  4ef15afb4b2723d8f3d81e51ec7afefe  2018-02-26 19:58:54              pet   \n",
       "\n",
       "       lead_type  ... average_stock business_type  \\\n",
       "0            NaN  ...           NaN           NaN   \n",
       "1            NaN  ...           NaN           NaN   \n",
       "2            NaN  ...           NaN           NaN   \n",
       "3            NaN  ...           NaN           NaN   \n",
       "4  online_medium  ...           NaN      reseller   \n",
       "\n",
       "  declared_product_catalog_size declared_monthly_revenue  \\\n",
       "0                           NaN                      NaN   \n",
       "1                           NaN                      NaN   \n",
       "2                           NaN                      NaN   \n",
       "3                           NaN                      NaN   \n",
       "4                           NaN                      0.0   \n",
       "\n",
       "                           order_id  order_item_id  \\\n",
       "0                               NaN            NaN   \n",
       "1                               NaN            NaN   \n",
       "2                               NaN            NaN   \n",
       "3                               NaN            NaN   \n",
       "4  1efcc6ba75b519535a510c53153a9256            1.0   \n",
       "\n",
       "                         product_id  shipping_limit_date  price freight_value  \n",
       "0                               NaN                  NaN    NaN           NaN  \n",
       "1                               NaN                  NaN    NaN           NaN  \n",
       "2                               NaN                  NaN    NaN           NaN  \n",
       "3                               NaN                  NaN    NaN           NaN  \n",
       "4  e94df75b2e9a8b056be0c144a731f55c  2018-06-26 22:20:21   94.2         18.76  \n",
       "\n",
       "[5 rows x 23 columns]"
      ]
     },
     "execution_count": 25,
     "metadata": {},
     "output_type": "execute_result"
    }
   ],
   "source": [
    "marketing_items.head()"
   ]
  },
  {
   "cell_type": "code",
   "execution_count": null,
   "id": "eac91534",
   "metadata": {},
   "outputs": [],
   "source": []
  }
 ],
 "metadata": {
  "kernelspec": {
   "display_name": "Python 3",
   "language": "python",
   "name": "python3"
  },
  "language_info": {
   "codemirror_mode": {
    "name": "ipython",
    "version": 3
   },
   "file_extension": ".py",
   "mimetype": "text/x-python",
   "name": "python",
   "nbconvert_exporter": "python",
   "pygments_lexer": "ipython3",
   "version": "3.9.4"
  }
 },
 "nbformat": 4,
 "nbformat_minor": 5
}
